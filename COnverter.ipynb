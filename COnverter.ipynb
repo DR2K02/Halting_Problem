{
  "nbformat": 4,
  "nbformat_minor": 0,
  "metadata": {
    "colab": {
      "provenance": []
    },
    "kernelspec": {
      "name": "python3",
      "display_name": "Python 3"
    },
    "language_info": {
      "name": "python"
    }
  },
  "cells": [
    {
      "cell_type": "markdown",
      "source": [
        "**Text to Binary Converter**"
      ],
      "metadata": {
        "id": "hnMvKmwlB21c"
      }
    },
    {
      "cell_type": "code",
      "execution_count": null,
      "metadata": {
        "colab": {
          "base_uri": "https://localhost:8080/"
        },
        "id": "Gqe44KEuAzFL",
        "outputId": "fad3d083-a336-4c99-b0ff-2019663b2878"
      },
      "outputs": [
        {
          "output_type": "stream",
          "name": "stdout",
          "text": [
            "Enter text to convert to binary: Example\n",
            "Binary representation: 01000101 01111000 01100001 01101101 01110000 01101100 01100101\n"
          ]
        }
      ],
      "source": [
        "def text_to_binary(text):\n",
        "    binary_result = ' '.join(format(ord(char), '08b') for char in text)\n",
        "    return binary_result\n",
        "\n",
        "# Example usage\n",
        "input_text = input(\"Enter text to convert to binary: \")\n",
        "print(\"Binary representation:\", text_to_binary(input_text))\n"
      ]
    },
    {
      "cell_type": "markdown",
      "source": [
        "# Sample Test Case 1\n",
        "\n",
        "Expected Output: 01000101 01111000 01100001 01101101 01110000 01101100 01100101\n",
        "\n",
        "Observed Output: 01000101 01111000 01100001 01101101 01110000 01101100 01100101"
      ],
      "metadata": {
        "id": "cS3RvU4fBDQ_"
      }
    },
    {
      "cell_type": "code",
      "source": [
        "def text_to_binary(text):\n",
        "    binary_result = ' '.join(format(ord(char), '08b') for char in text)\n",
        "    return binary_result\n",
        "\n",
        "# Example usage\n",
        "input_text = input(\"Enter text to convert to binary: \")\n",
        "print(\"Binary representation:\", text_to_binary(input_text))\n"
      ],
      "metadata": {
        "colab": {
          "base_uri": "https://localhost:8080/"
        },
        "id": "YcU4H97SBaRY",
        "outputId": "ade258a3-bada-4c6d-b5c2-5b7de06c25c3"
      },
      "execution_count": null,
      "outputs": [
        {
          "output_type": "stream",
          "name": "stdout",
          "text": [
            "Enter text to convert to binary: The quick brown frog jumps over the lazy fox.\n",
            "Binary representation: 01010100 01101000 01100101 00100000 01110001 01110101 01101001 01100011 01101011 00100000 01100010 01110010 01101111 01110111 01101110 00100000 01100110 01110010 01101111 01100111 00100000 01101010 01110101 01101101 01110000 01110011 00100000 01101111 01110110 01100101 01110010 00100000 01110100 01101000 01100101 00100000 01101100 01100001 01111010 01111001 00100000 01100110 01101111 01111000 00101110\n"
          ]
        }
      ]
    },
    {
      "cell_type": "markdown",
      "source": [
        "# Sample Test Case 2\n",
        "\n",
        "Expected Output: 01010100 01101000 01100101 00100000 01110001 01110101 01101001 01100011 01101011 00100000 01100010 01110010 01101111 01110111 01101110 00100000 01100110 01110010 01101111 01100111 00100000 01101010 01110101 01101101 01110000 01110011 00100000 01101111 01110110 01100101 01110010 00100000 01110100 01101000 01100101 00100000 01101100 01100001 01111010 01111001 00100000 01100110 01110010 01101111 01100111 00100000\n",
        "\n",
        "Observed Output: 01010100 01101000 01100101 00100000 01110001 01110101 01101001 01100011 01101011 00100000 01100010 01110010 01101111 01110111 01101110 00100000 01100110 01110010 01101111 01100111 00100000 01101010 01110101 01101101 01110000 01110011 00100000 01101111 01110110 01100101 01110010 00100000 01110100 01101000 01100101 00100000 01101100 01100001 01111010 01111001 00100000 01100110 01101111 01111000 00100000"
      ],
      "metadata": {
        "id": "gBAksm12BmRy"
      }
    }
  ]
}